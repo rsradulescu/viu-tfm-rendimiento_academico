{
  "nbformat": 4,
  "nbformat_minor": 0,
  "metadata": {
    "colab": {
      "name": "TFM-Rendimiento académico.ipynb",
      "provenance": [],
      "collapsed_sections": [
        "dx1chRJr5Fty",
        "A5qJ904ypD-t"
      ]
    },
    "kernelspec": {
      "name": "python3",
      "display_name": "Python 3"
    },
    "language_info": {
      "name": "python"
    }
  },
  "cells": [
    {
      "cell_type": "markdown",
      "source": [
        "# Analisis de rendimiento académico universitario\n",
        "\n",
        "Parala realización del TFM voy comenzar realizando el analisis de una base de datos de actividad académica universitaria, especificamente de la Facultad de Naturales de la UNPSJB, una Universidad de la Patagonia Argentina. La base se carga mediante un csv con las notas de los examenes tomados en el intervalo de 3 años, desde febrero del 2016 a diciembre del 2020.\n",
        "\n",
        "**Importar librerias y Dataset**\n",
        "\n",
        "Preprocesamiento: Del csv utilizado, previamente se eliminaron columnas de datos personales del alumno, por ser datos sensibles a compartir. También los campos repetidos entre tablas como los campos de join entre las tablas."
      ],
      "metadata": {
        "id": "MYeSDaEj5BoR"
      }
    },
    {
      "cell_type": "code",
      "execution_count": null,
      "metadata": {
        "id": "IgTi8xXm3qhl"
      },
      "outputs": [],
      "source": [
        "# Importar librerias\n",
        "import pandas as pd\n",
        "import numpy as np\n",
        "pd.set_option('display.max_columns', None)\n",
        "import warnings\n",
        "warnings.filterwarnings(\"ignore\")\n",
        "import seaborn as sns #libreria de graficos mas importante de python\n",
        "sns.set()\n",
        "import matplotlib\n",
        "import matplotlib.pyplot as plt"
      ]
    },
    {
      "cell_type": "code",
      "source": [
        "df = pd.read_csv(\"/content/tfm-data_2016-2020.csv\",  sep=',')\n",
        "df.shape"
      ],
      "metadata": {
        "colab": {
          "base_uri": "https://localhost:8080/"
        },
        "id": "Gu6GoH5o7A8c",
        "outputId": "96995f86-3c97-4390-efd2-6f2a94d71dfc"
      },
      "execution_count": null,
      "outputs": [
        {
          "output_type": "execute_result",
          "data": {
            "text/plain": [
              "(23699, 22)"
            ]
          },
          "metadata": {},
          "execution_count": 54
        }
      ]
    },
    {
      "cell_type": "code",
      "source": [
        "df.head()"
      ],
      "metadata": {
        "colab": {
          "base_uri": "https://localhost:8080/",
          "height": 409
        },
        "id": "c0Dr-IDH9Evm",
        "outputId": "6e2a2196-22ff-4ac9-ba72-5e5354060163"
      },
      "execution_count": null,
      "outputs": [
        {
          "output_type": "execute_result",
          "data": {
            "text/plain": [
              "   cod_persona     apellido sexo fecha_nacimiento  nacionalidad        legajo  \\\n",
              "0         7829  BARRIONUEVO    F       1969-05-07             1          1009   \n",
              "1        19119    CAYUÑANCO    F       1997-09-14             1           200   \n",
              "2        19062      TABORDA    M       1997-10-08             1           286   \n",
              "3        17869      MACHADO    M       1997-12-10             1           586   \n",
              "4         7447        LEFIN    M       1996-03-03             1  1-2-20-20407   \n",
              "\n",
              "   ubicacion regular calidad  cod_propuesta  \\\n",
              "0          1       S       A             11   \n",
              "1          3       N       A             15   \n",
              "2          3       S       A              7   \n",
              "3          1       S       A              5   \n",
              "4          1       S       A             19   \n",
              "\n",
              "                                nombre_propuesta  id_acta_examen fecha_examen  \\\n",
              "0                     LICENCIATURA EN ENFERMERIA           20507   2016-08-25   \n",
              "1  TECNICO UNIVERSITARIO EN PROTECCION AMBIENTAL           20519   2016-07-29   \n",
              "2            LICENCIATURA EN CIENCIAS BIOLOGICAS           20519   2016-07-29   \n",
              "3                                       GEOLOGIA           20258   2016-07-26   \n",
              "4                                       MEDICINA           20259   2016-07-26   \n",
              "\n",
              "   escala_nota nota resultado   nro_acta tipo_acta estado_mesa  \\\n",
              "0          104    1         R   22380/16         N           C   \n",
              "1          104    1         R  3540 / 16         N           C   \n",
              "2          104    1         R  3540 / 16         N           C   \n",
              "3          104    1         R    3646/16         N           C   \n",
              "4          104    1         R    3648/16         N           C   \n",
              "\n",
              "      hora_inicio hora_finalizacion                 nombre_mesa  \n",
              "0  09:00:00-03:00    12:00:00-03:00                 EDUC EN ENF  \n",
              "1  16:00:00-03:00               NaN  Matemática I - Sede Trelew  \n",
              "2  16:00:00-03:00               NaN  Matemática I - Sede Trelew  \n",
              "3  09:00:00-03:00    12:00:00-03:00               MATEMATICA -L  \n",
              "4  09:00:00-03:00    12:00:00-03:00                 BIOQ GRAL-L  "
            ],
            "text/html": [
              "\n",
              "  <div id=\"df-50e58541-e126-47ef-9378-f0cc285080c3\">\n",
              "    <div class=\"colab-df-container\">\n",
              "      <div>\n",
              "<style scoped>\n",
              "    .dataframe tbody tr th:only-of-type {\n",
              "        vertical-align: middle;\n",
              "    }\n",
              "\n",
              "    .dataframe tbody tr th {\n",
              "        vertical-align: top;\n",
              "    }\n",
              "\n",
              "    .dataframe thead th {\n",
              "        text-align: right;\n",
              "    }\n",
              "</style>\n",
              "<table border=\"1\" class=\"dataframe\">\n",
              "  <thead>\n",
              "    <tr style=\"text-align: right;\">\n",
              "      <th></th>\n",
              "      <th>cod_persona</th>\n",
              "      <th>apellido</th>\n",
              "      <th>sexo</th>\n",
              "      <th>fecha_nacimiento</th>\n",
              "      <th>nacionalidad</th>\n",
              "      <th>legajo</th>\n",
              "      <th>ubicacion</th>\n",
              "      <th>regular</th>\n",
              "      <th>calidad</th>\n",
              "      <th>cod_propuesta</th>\n",
              "      <th>nombre_propuesta</th>\n",
              "      <th>id_acta_examen</th>\n",
              "      <th>fecha_examen</th>\n",
              "      <th>escala_nota</th>\n",
              "      <th>nota</th>\n",
              "      <th>resultado</th>\n",
              "      <th>nro_acta</th>\n",
              "      <th>tipo_acta</th>\n",
              "      <th>estado_mesa</th>\n",
              "      <th>hora_inicio</th>\n",
              "      <th>hora_finalizacion</th>\n",
              "      <th>nombre_mesa</th>\n",
              "    </tr>\n",
              "  </thead>\n",
              "  <tbody>\n",
              "    <tr>\n",
              "      <th>0</th>\n",
              "      <td>7829</td>\n",
              "      <td>BARRIONUEVO</td>\n",
              "      <td>F</td>\n",
              "      <td>1969-05-07</td>\n",
              "      <td>1</td>\n",
              "      <td>1009</td>\n",
              "      <td>1</td>\n",
              "      <td>S</td>\n",
              "      <td>A</td>\n",
              "      <td>11</td>\n",
              "      <td>LICENCIATURA EN ENFERMERIA</td>\n",
              "      <td>20507</td>\n",
              "      <td>2016-08-25</td>\n",
              "      <td>104</td>\n",
              "      <td>1</td>\n",
              "      <td>R</td>\n",
              "      <td>22380/16</td>\n",
              "      <td>N</td>\n",
              "      <td>C</td>\n",
              "      <td>09:00:00-03:00</td>\n",
              "      <td>12:00:00-03:00</td>\n",
              "      <td>EDUC EN ENF</td>\n",
              "    </tr>\n",
              "    <tr>\n",
              "      <th>1</th>\n",
              "      <td>19119</td>\n",
              "      <td>CAYUÑANCO</td>\n",
              "      <td>F</td>\n",
              "      <td>1997-09-14</td>\n",
              "      <td>1</td>\n",
              "      <td>200</td>\n",
              "      <td>3</td>\n",
              "      <td>N</td>\n",
              "      <td>A</td>\n",
              "      <td>15</td>\n",
              "      <td>TECNICO UNIVERSITARIO EN PROTECCION AMBIENTAL</td>\n",
              "      <td>20519</td>\n",
              "      <td>2016-07-29</td>\n",
              "      <td>104</td>\n",
              "      <td>1</td>\n",
              "      <td>R</td>\n",
              "      <td>3540 / 16</td>\n",
              "      <td>N</td>\n",
              "      <td>C</td>\n",
              "      <td>16:00:00-03:00</td>\n",
              "      <td>NaN</td>\n",
              "      <td>Matemática I - Sede Trelew</td>\n",
              "    </tr>\n",
              "    <tr>\n",
              "      <th>2</th>\n",
              "      <td>19062</td>\n",
              "      <td>TABORDA</td>\n",
              "      <td>M</td>\n",
              "      <td>1997-10-08</td>\n",
              "      <td>1</td>\n",
              "      <td>286</td>\n",
              "      <td>3</td>\n",
              "      <td>S</td>\n",
              "      <td>A</td>\n",
              "      <td>7</td>\n",
              "      <td>LICENCIATURA EN CIENCIAS BIOLOGICAS</td>\n",
              "      <td>20519</td>\n",
              "      <td>2016-07-29</td>\n",
              "      <td>104</td>\n",
              "      <td>1</td>\n",
              "      <td>R</td>\n",
              "      <td>3540 / 16</td>\n",
              "      <td>N</td>\n",
              "      <td>C</td>\n",
              "      <td>16:00:00-03:00</td>\n",
              "      <td>NaN</td>\n",
              "      <td>Matemática I - Sede Trelew</td>\n",
              "    </tr>\n",
              "    <tr>\n",
              "      <th>3</th>\n",
              "      <td>17869</td>\n",
              "      <td>MACHADO</td>\n",
              "      <td>M</td>\n",
              "      <td>1997-12-10</td>\n",
              "      <td>1</td>\n",
              "      <td>586</td>\n",
              "      <td>1</td>\n",
              "      <td>S</td>\n",
              "      <td>A</td>\n",
              "      <td>5</td>\n",
              "      <td>GEOLOGIA</td>\n",
              "      <td>20258</td>\n",
              "      <td>2016-07-26</td>\n",
              "      <td>104</td>\n",
              "      <td>1</td>\n",
              "      <td>R</td>\n",
              "      <td>3646/16</td>\n",
              "      <td>N</td>\n",
              "      <td>C</td>\n",
              "      <td>09:00:00-03:00</td>\n",
              "      <td>12:00:00-03:00</td>\n",
              "      <td>MATEMATICA -L</td>\n",
              "    </tr>\n",
              "    <tr>\n",
              "      <th>4</th>\n",
              "      <td>7447</td>\n",
              "      <td>LEFIN</td>\n",
              "      <td>M</td>\n",
              "      <td>1996-03-03</td>\n",
              "      <td>1</td>\n",
              "      <td>1-2-20-20407</td>\n",
              "      <td>1</td>\n",
              "      <td>S</td>\n",
              "      <td>A</td>\n",
              "      <td>19</td>\n",
              "      <td>MEDICINA</td>\n",
              "      <td>20259</td>\n",
              "      <td>2016-07-26</td>\n",
              "      <td>104</td>\n",
              "      <td>1</td>\n",
              "      <td>R</td>\n",
              "      <td>3648/16</td>\n",
              "      <td>N</td>\n",
              "      <td>C</td>\n",
              "      <td>09:00:00-03:00</td>\n",
              "      <td>12:00:00-03:00</td>\n",
              "      <td>BIOQ GRAL-L</td>\n",
              "    </tr>\n",
              "  </tbody>\n",
              "</table>\n",
              "</div>\n",
              "      <button class=\"colab-df-convert\" onclick=\"convertToInteractive('df-50e58541-e126-47ef-9378-f0cc285080c3')\"\n",
              "              title=\"Convert this dataframe to an interactive table.\"\n",
              "              style=\"display:none;\">\n",
              "        \n",
              "  <svg xmlns=\"http://www.w3.org/2000/svg\" height=\"24px\"viewBox=\"0 0 24 24\"\n",
              "       width=\"24px\">\n",
              "    <path d=\"M0 0h24v24H0V0z\" fill=\"none\"/>\n",
              "    <path d=\"M18.56 5.44l.94 2.06.94-2.06 2.06-.94-2.06-.94-.94-2.06-.94 2.06-2.06.94zm-11 1L8.5 8.5l.94-2.06 2.06-.94-2.06-.94L8.5 2.5l-.94 2.06-2.06.94zm10 10l.94 2.06.94-2.06 2.06-.94-2.06-.94-.94-2.06-.94 2.06-2.06.94z\"/><path d=\"M17.41 7.96l-1.37-1.37c-.4-.4-.92-.59-1.43-.59-.52 0-1.04.2-1.43.59L10.3 9.45l-7.72 7.72c-.78.78-.78 2.05 0 2.83L4 21.41c.39.39.9.59 1.41.59.51 0 1.02-.2 1.41-.59l7.78-7.78 2.81-2.81c.8-.78.8-2.07 0-2.86zM5.41 20L4 18.59l7.72-7.72 1.47 1.35L5.41 20z\"/>\n",
              "  </svg>\n",
              "      </button>\n",
              "      \n",
              "  <style>\n",
              "    .colab-df-container {\n",
              "      display:flex;\n",
              "      flex-wrap:wrap;\n",
              "      gap: 12px;\n",
              "    }\n",
              "\n",
              "    .colab-df-convert {\n",
              "      background-color: #E8F0FE;\n",
              "      border: none;\n",
              "      border-radius: 50%;\n",
              "      cursor: pointer;\n",
              "      display: none;\n",
              "      fill: #1967D2;\n",
              "      height: 32px;\n",
              "      padding: 0 0 0 0;\n",
              "      width: 32px;\n",
              "    }\n",
              "\n",
              "    .colab-df-convert:hover {\n",
              "      background-color: #E2EBFA;\n",
              "      box-shadow: 0px 1px 2px rgba(60, 64, 67, 0.3), 0px 1px 3px 1px rgba(60, 64, 67, 0.15);\n",
              "      fill: #174EA6;\n",
              "    }\n",
              "\n",
              "    [theme=dark] .colab-df-convert {\n",
              "      background-color: #3B4455;\n",
              "      fill: #D2E3FC;\n",
              "    }\n",
              "\n",
              "    [theme=dark] .colab-df-convert:hover {\n",
              "      background-color: #434B5C;\n",
              "      box-shadow: 0px 1px 3px 1px rgba(0, 0, 0, 0.15);\n",
              "      filter: drop-shadow(0px 1px 2px rgba(0, 0, 0, 0.3));\n",
              "      fill: #FFFFFF;\n",
              "    }\n",
              "  </style>\n",
              "\n",
              "      <script>\n",
              "        const buttonEl =\n",
              "          document.querySelector('#df-50e58541-e126-47ef-9378-f0cc285080c3 button.colab-df-convert');\n",
              "        buttonEl.style.display =\n",
              "          google.colab.kernel.accessAllowed ? 'block' : 'none';\n",
              "\n",
              "        async function convertToInteractive(key) {\n",
              "          const element = document.querySelector('#df-50e58541-e126-47ef-9378-f0cc285080c3');\n",
              "          const dataTable =\n",
              "            await google.colab.kernel.invokeFunction('convertToInteractive',\n",
              "                                                     [key], {});\n",
              "          if (!dataTable) return;\n",
              "\n",
              "          const docLinkHtml = 'Like what you see? Visit the ' +\n",
              "            '<a target=\"_blank\" href=https://colab.research.google.com/notebooks/data_table.ipynb>data table notebook</a>'\n",
              "            + ' to learn more about interactive tables.';\n",
              "          element.innerHTML = '';\n",
              "          dataTable['output_type'] = 'display_data';\n",
              "          await google.colab.output.renderOutput(dataTable, element);\n",
              "          const docLink = document.createElement('div');\n",
              "          docLink.innerHTML = docLinkHtml;\n",
              "          element.appendChild(docLink);\n",
              "        }\n",
              "      </script>\n",
              "    </div>\n",
              "  </div>\n",
              "  "
            ]
          },
          "metadata": {},
          "execution_count": 55
        }
      ]
    },
    {
      "cell_type": "markdown",
      "source": [
        "## Analisis de datos nulos"
      ],
      "metadata": {
        "id": "tbI5YVav1k9J"
      }
    },
    {
      "cell_type": "code",
      "source": [
        "# Observamos datos faltantes\n",
        "df.isna().sum().sort_values()"
      ],
      "metadata": {
        "colab": {
          "base_uri": "https://localhost:8080/"
        },
        "id": "MvSdQ9CIUXL2",
        "outputId": "e418e530-cb16-411c-f986-7e353d0c72fc"
      },
      "execution_count": null,
      "outputs": [
        {
          "output_type": "execute_result",
          "data": {
            "text/plain": [
              "cod_persona             0\n",
              "hora_inicio             0\n",
              "estado_mesa             0\n",
              "tipo_acta               0\n",
              "nro_acta                0\n",
              "escala_nota             0\n",
              "fecha_examen            0\n",
              "id_acta_examen          0\n",
              "cod_propuesta           0\n",
              "nombre_propuesta        0\n",
              "regular                 0\n",
              "ubicacion               0\n",
              "legajo                  0\n",
              "nacionalidad            0\n",
              "fecha_nacimiento        0\n",
              "sexo                    0\n",
              "apellido                0\n",
              "calidad                 0\n",
              "nombre_mesa             0\n",
              "resultado             548\n",
              "hora_finalizacion    4431\n",
              "nota                 7640\n",
              "dtype: int64"
            ]
          },
          "metadata": {},
          "execution_count": 56
        }
      ]
    },
    {
      "cell_type": "code",
      "source": [
        "# El campo hora_fializacion no es obligatorio en el sistema por lo que en muchas ocasiones vendrá vacio. \n",
        "# Podemos eliminarlo del dataset\n",
        "df = df.drop(['hora_finalizacion'], axis = 1)\n",
        "df.shape"
      ],
      "metadata": {
        "colab": {
          "base_uri": "https://localhost:8080/"
        },
        "id": "iMWy0D4I7Uak",
        "outputId": "da00f1d6-5ae1-4eff-f415-e1544f971255"
      },
      "execution_count": null,
      "outputs": [
        {
          "output_type": "execute_result",
          "data": {
            "text/plain": [
              "(23699, 21)"
            ]
          },
          "metadata": {},
          "execution_count": 57
        }
      ]
    },
    {
      "cell_type": "code",
      "source": [
        "#Observamos contenido de variable nota y resultado\n",
        "df.fillna(-1).groupby(['nota', 'resultado']).size()"
      ],
      "metadata": {
        "colab": {
          "base_uri": "https://localhost:8080/"
        },
        "id": "DPU0JjHzzD-V",
        "outputId": "850abc5d-521c-4638-c391-4be91c82cca8"
      },
      "execution_count": null,
      "outputs": [
        {
          "output_type": "execute_result",
          "data": {
            "text/plain": [
              "nota  resultado\n",
              "-1    -1            548\n",
              "      U            7092\n",
              "1     R             242\n",
              "10    A             675\n",
              "2     R            2528\n",
              "3     R            1192\n",
              "4     A            1644\n",
              "5     A            1612\n",
              "6     A            1872\n",
              "7     A            2339\n",
              "8     A            2222\n",
              "9     A            1564\n",
              "A     A             167\n",
              "D     R               2\n",
              "dtype: int64"
            ]
          },
          "metadata": {},
          "execution_count": 58
        }
      ]
    },
    {
      "cell_type": "markdown",
      "source": [
        "Primero debemos identificar los posibles valores de los datos: \n",
        "\n",
        "\n",
        "1.   ***Nota: numerica 1-10 ó categórica: A-D*** (Aprobado-Desaprobado).\n",
        "2.   ***Resultado: A-U-R*** (Aprobado - Ausente - Reprobado)\n",
        "\n",
        "\n",
        "Este groupby nos explica algo mejor los datos vacios en los campos clave. \n",
        "Vemos dos situaciones:\n",
        "\n",
        "*   Nota y resultado vacios: examenes que no tienen nota aunque tiene inscriptos, esto se da cuando la mesa se cancela, por paro docente, enfermedad del docente u otra situación. Se cancela, por ello hay inscriptos, pero no hay notas. Esta información **puede eliminarse**, porque no sirve para analizar rendimiento académico\n",
        "*   Nota vacia y resultado U: Este tipo de resultado hace referencia al ausente. Los alumnos que estuvieron ausentes no tienen nota. Esta información nos servirá para analizar rendimiento en base a resultado, pero no en base a nota. Podemos reemplazarpor 0 la nota en el caso de ausentes, de esta manera no repercute en el promedio numérico."
      ],
      "metadata": {
        "id": "lClQFmAc1I2u"
      }
    },
    {
      "cell_type": "code",
      "source": [
        "# Elimino filas con nota y resultado vacios\n",
        "df = df.dropna(subset=['resultado'])\n",
        "df.fillna(-1).groupby(['nota', 'resultado']).size()"
      ],
      "metadata": {
        "colab": {
          "base_uri": "https://localhost:8080/"
        },
        "id": "TcBalVuC1hh4",
        "outputId": "a5a9e7b0-890e-4d7f-9572-ccda5c1a210b"
      },
      "execution_count": null,
      "outputs": [
        {
          "output_type": "execute_result",
          "data": {
            "text/plain": [
              "nota  resultado\n",
              "-1    U            7092\n",
              "1     R             242\n",
              "10    A             675\n",
              "2     R            2528\n",
              "3     R            1192\n",
              "4     A            1644\n",
              "5     A            1612\n",
              "6     A            1872\n",
              "7     A            2339\n",
              "8     A            2222\n",
              "9     A            1564\n",
              "A     A             167\n",
              "D     R               2\n",
              "dtype: int64"
            ]
          },
          "metadata": {},
          "execution_count": 59
        }
      ]
    },
    {
      "cell_type": "code",
      "source": [
        "# Reemplazo las notas vacias que quedan con -1\n",
        "df['nota'] = df['nota'].fillna(-1)"
      ],
      "metadata": {
        "id": "TWGlTGqv4FQ3"
      },
      "execution_count": null,
      "outputs": []
    },
    {
      "cell_type": "code",
      "source": [
        "# Elimino las notas que no sean numéricas: A o D\n",
        "df = df[(df.nota != 'A') & (df.nota != 'D')]\n",
        "df.groupby(['nota', 'resultado']).size()"
      ],
      "metadata": {
        "colab": {
          "base_uri": "https://localhost:8080/"
        },
        "id": "dcP4RchK3XkP",
        "outputId": "f448531d-bd5c-4516-a183-9676757c2d06"
      },
      "execution_count": null,
      "outputs": [
        {
          "output_type": "execute_result",
          "data": {
            "text/plain": [
              "nota  resultado\n",
              "-1    U            7092\n",
              "1     R             242\n",
              "10    A             675\n",
              "2     R            2528\n",
              "3     R            1192\n",
              "4     A            1644\n",
              "5     A            1612\n",
              "6     A            1872\n",
              "7     A            2339\n",
              "8     A            2222\n",
              "9     A            1564\n",
              "dtype: int64"
            ]
          },
          "metadata": {},
          "execution_count": 61
        }
      ]
    },
    {
      "cell_type": "markdown",
      "source": [
        "## Verificar datos erroneos"
      ],
      "metadata": {
        "id": "x5FcQSfU-1r0"
      }
    },
    {
      "cell_type": "code",
      "source": [
        "# Observamos el rango de valores en \"fecha_nacimiento\" \n",
        "df.groupby('fecha_nacimiento').size()"
      ],
      "metadata": {
        "colab": {
          "base_uri": "https://localhost:8080/"
        },
        "id": "qE3JFIB5-4vC",
        "outputId": "93aeec1e-a33d-47e0-b6dc-6eabb952156c"
      },
      "execution_count": null,
      "outputs": [
        {
          "output_type": "execute_result",
          "data": {
            "text/plain": [
              "fecha_nacimiento\n",
              "1949-01-20     1\n",
              "1957-04-11    12\n",
              "1958-08-17     1\n",
              "1958-11-30     1\n",
              "1959-04-24     1\n",
              "              ..\n",
              "2001-11-11     3\n",
              "2002-04-21     3\n",
              "2002-04-22     1\n",
              "2002-05-06     1\n",
              "2998-01-02     5\n",
              "Length: 2097, dtype: int64"
            ]
          },
          "metadata": {},
          "execution_count": 62
        }
      ]
    },
    {
      "cell_type": "markdown",
      "source": [
        "Al observar los posibles resultados en la fecha de nacimiento, encontramos un error en el año 2998 en el caso de 3 alumnos. Para corregirlo tenemos muchas opciones, en este caso supondremos que el error está en el primer digito del año, asi que cambiaremos el 2998 por 1998."
      ],
      "metadata": {
        "id": "DMe90RRS_n-b"
      }
    },
    {
      "cell_type": "code",
      "source": [
        "# Reemplazamos variable erronea\n",
        "df = df.replace({'fecha_nacimiento':'2998-01-02'}, '1998-01-02')"
      ],
      "metadata": {
        "id": "Mooz7mop_uNd"
      },
      "execution_count": null,
      "outputs": []
    },
    {
      "cell_type": "code",
      "source": [
        "# Observamos el rango de valores en \"fecha_examen\". Los valores son correctos.\n",
        "df.groupby('fecha_examen').size()"
      ],
      "metadata": {
        "colab": {
          "base_uri": "https://localhost:8080/"
        },
        "id": "hpcye3_HAN20",
        "outputId": "59e9725f-38e8-47a2-ec93-a3ab65cee7be"
      },
      "execution_count": null,
      "outputs": [
        {
          "output_type": "execute_result",
          "data": {
            "text/plain": [
              "fecha_examen\n",
              "2016-02-10    19\n",
              "2016-02-11    10\n",
              "2016-02-12    37\n",
              "2016-02-15    29\n",
              "2016-02-16    32\n",
              "              ..\n",
              "2020-12-18    24\n",
              "2020-12-21    17\n",
              "2020-12-22    34\n",
              "2020-12-23     1\n",
              "2020-12-28     3\n",
              "Length: 689, dtype: int64"
            ]
          },
          "metadata": {},
          "execution_count": 64
        }
      ]
    },
    {
      "cell_type": "markdown",
      "source": [
        "# Analisis descriptivo\n",
        "##Analisis nota y resultado"
      ],
      "metadata": {
        "id": "KOS743bOpTYD"
      }
    },
    {
      "cell_type": "code",
      "source": [
        "(df['resultado'].value_counts()/df['resultado'].count())*100"
      ],
      "metadata": {
        "colab": {
          "base_uri": "https://localhost:8080/"
        },
        "id": "i7aQfROztgDU",
        "outputId": "7d7cbb8e-fc1d-4de7-89fb-5aaca446e5e6"
      },
      "execution_count": null,
      "outputs": [
        {
          "output_type": "execute_result",
          "data": {
            "text/plain": [
              "A    51.901488\n",
              "U    30.858933\n",
              "R    17.239579\n",
              "Name: resultado, dtype: float64"
            ]
          },
          "metadata": {},
          "execution_count": 65
        }
      ]
    },
    {
      "cell_type": "code",
      "source": [
        "# Observamos histograma en base a resultado\n",
        "plt.figure(figsize=(5, 3))\n",
        "plt.hist(df['resultado'])\n",
        "plt.show()"
      ],
      "metadata": {
        "colab": {
          "base_uri": "https://localhost:8080/",
          "height": 213
        },
        "id": "M8dbhSgPpVyT",
        "outputId": "dafad8af-09cf-475e-e50d-e446a9f11297"
      },
      "execution_count": null,
      "outputs": [
        {
          "output_type": "display_data",
          "data": {
            "text/plain": [
              "<Figure size 360x216 with 1 Axes>"
            ],
            "image/png": "[encoded data removed]"
          },
          "metadata": {}
        }
      ]
    },
    {
      "cell_type": "code",
      "source": [
        "df['anio_examen'] = pd.DatetimeIndex(df['fecha_examen']).year\n",
        "\n",
        "# obtengo años de examen de alumnos aprobados\n",
        "df_aprobados = df[df['resultado'] == 'A']\n",
        "\n",
        "# obtengo años de examen de alumnos desap\n",
        "df_desaprobados = df[df['resultado'] == 'R']\n",
        "\n",
        "# obtengo años de examen de alumnos ausentes\n",
        "df_ausentes = df[df['resultado'] == 'U']\n",
        "\n",
        "plt.figure(figsize=(10, 5))\n",
        "plt.style.use('seaborn-deep')\n",
        "bins = 5\n",
        "plt.hist([df_aprobados['anio_examen'], df_desaprobados['anio_examen'], df_ausentes['anio_examen']], bins, label=['Aprobados', 'Desaprobados', 'Ausentes'])\n",
        "plt.legend(loc='upper right')\n",
        "plt.xticks([2016,2017,2018,2019,2020])\n",
        "plt.xlabel('Año de examen')\n",
        "plt.ylabel('Cantidad de examenes')\n",
        "\n",
        "plt.show()"
      ],
      "metadata": {
        "colab": {
          "base_uri": "https://localhost:8080/",
          "height": 339
        },
        "id": "Ak9q3OImxi_w",
        "outputId": "bbe3cd0d-f3a1-4905-87eb-f2c1a598f2a1"
      },
      "execution_count": null,
      "outputs": [
        {
          "output_type": "display_data",
          "data": {
            "text/plain": [
              "<Figure size 720x360 with 1 Axes>"
            ],
            "image/png": "[encoded data removed]"
          },
          "metadata": {}
        }
      ]
    },
    {
      "cell_type": "code",
      "source": [
        "# creo dummies para sexo, para futuros calculos\n",
        "df['sexo_is_f'] = pd.get_dummies(df[\"sexo\"], drop_first=True)"
      ],
      "metadata": {
        "id": "ANXseToAyGOO"
      },
      "execution_count": null,
      "outputs": []
    },
    {
      "cell_type": "code",
      "source": [
        "# Convierto la nota del tipo Serie a Numerico para obtener el promedio\n",
        "# Creo DF con solo notas 1 al 10, sin ausentes\n",
        "# Agrego dummie de resultado A y R\n",
        "df_sin_ausentes = df[df['nota'] != -1]\n",
        "df_sin_ausentes['nota'] = pd.to_numeric(df_sin_ausentes['nota'])\n",
        "df_sin_ausentes['resultado_is_a'] = pd.get_dummies(df_sin_ausentes[\"resultado\"], drop_first=True)\n",
        "\n",
        "df_sin_ausentes.groupby(['sexo', 'resultado'])['nota'].mean()"
      ],
      "metadata": {
        "colab": {
          "base_uri": "https://localhost:8080/"
        },
        "id": "Bfw5_0MRKwyT",
        "outputId": "d5b21b5d-8e53-459a-d745-b4a43a4509de"
      },
      "execution_count": null,
      "outputs": [
        {
          "output_type": "execute_result",
          "data": {
            "text/plain": [
              "sexo  resultado\n",
              "F     A            6.740549\n",
              "      R            2.266036\n",
              "M     A            6.896747\n",
              "      R            2.162000\n",
              "Name: nota, dtype: float64"
            ]
          },
          "metadata": {},
          "execution_count": 69
        }
      ]
    },
    {
      "cell_type": "code",
      "source": [
        "df_sin_ausentes['nota'].describe()"
      ],
      "metadata": {
        "colab": {
          "base_uri": "https://localhost:8080/"
        },
        "id": "qw4f45Q20oJz",
        "outputId": "5e509a9a-d0a6-44f8-ecee-46453c7bf91c"
      },
      "execution_count": null,
      "outputs": [
        {
          "output_type": "execute_result",
          "data": {
            "text/plain": [
              "count    15890.000000\n",
              "mean         5.646130\n",
              "std          2.502779\n",
              "min          1.000000\n",
              "25%          4.000000\n",
              "50%          6.000000\n",
              "75%          8.000000\n",
              "max         10.000000\n",
              "Name: nota, dtype: float64"
            ]
          },
          "metadata": {},
          "execution_count": 70
        }
      ]
    },
    {
      "cell_type": "code",
      "source": [
        "# Histograma de notas\n",
        "plt.figure(figsize=(10, 5))\n",
        "bins=10\n",
        "plt.style.use('seaborn-deep')\n",
        "plt.hist(df_sin_ausentes['nota'], bins)\n",
        "plt.legend(loc='upper right')\n",
        "plt.xticks([1,2,3,4,5,6,7,8,9,10])\n",
        "plt.xlabel('Nota de examen')\n",
        "plt.title(\"Histograma de frecuencia de notas\")\n",
        "plt.ylabel('Cantidad de examenes')\n",
        "plt.show()"
      ],
      "metadata": {
        "colab": {
          "base_uri": "https://localhost:8080/",
          "height": 372
        },
        "id": "xhiY1vvtcZTb",
        "outputId": "025475ee-09fa-4cc4-bfbc-243e87b23281"
      },
      "execution_count": null,
      "outputs": [
        {
          "output_type": "stream",
          "name": "stderr",
          "text": [
            "No handles with labels found to put in legend.\n"
          ]
        },
        {
          "output_type": "display_data",
          "data": {
            "text/plain": [
              "<Figure size 720x360 with 1 Axes>"
            ],
            "image/png": "[encoded data removed]"
          },
          "metadata": {}
        }
      ]
    },
    {
      "cell_type": "code",
      "source": [
        "# examenes promedio rendido por año\n",
        "df_cant_anio = df.groupby(['cod_persona', 'anio_examen']).size().to_frame('cantidad_anio')\n",
        "df_cant_anio.groupby(['anio_examen'])['cantidad_anio'].mean()"
      ],
      "metadata": {
        "colab": {
          "base_uri": "https://localhost:8080/"
        },
        "id": "vaEnnaIRWmNo",
        "outputId": "e11c700b-cd06-43ca-ba21-41b73cd78630"
      },
      "execution_count": null,
      "outputs": [
        {
          "output_type": "execute_result",
          "data": {
            "text/plain": [
              "anio_examen\n",
              "2016    3.838040\n",
              "2017    3.916350\n",
              "2018    3.998563\n",
              "2019    3.546466\n",
              "2020    2.040330\n",
              "Name: cantidad_anio, dtype: float64"
            ]
          },
          "metadata": {},
          "execution_count": 72
        }
      ]
    },
    {
      "cell_type": "code",
      "source": [
        "# obtener boxplot de cantidad examenes segun resultado por año y añumno\n",
        "df_resultado_count = df.groupby(['cod_persona', 'anio_examen','resultado'])['resultado'].size().to_frame('size')\n",
        "\n",
        "df_resultado_count.boxplot(by=['resultado'], vert=False, column=['size'], figsize=(12,5))\n",
        "plt.title(\"Boxplot de cantidad examenes por alumno, año y resultado\")\n",
        "plt.yticks([1,2,3], ['Aprobado', 'Reprobado', 'Ausente'])\n",
        "plt.xlabel('Cantidad de exámenes')\n",
        "plt.ylabel('Resultado del examen')\n",
        "\n",
        "plt.suptitle('')\n",
        "plt.show()"
      ],
      "metadata": {
        "colab": {
          "base_uri": "https://localhost:8080/",
          "height": 353
        },
        "id": "LRFZBdPsXpBv",
        "outputId": "00b58fea-13e8-49e8-b100-347a53de7f34"
      },
      "execution_count": null,
      "outputs": [
        {
          "output_type": "display_data",
          "data": {
            "text/plain": [
              "<Figure size 864x360 with 1 Axes>"
            ],
            "image/png": "[encoded data removed]"
          },
          "metadata": {}
        }
      ]
    },
    {
      "cell_type": "markdown",
      "source": [
        "## Variable Sexo"
      ],
      "metadata": {
        "id": "dx1chRJr5Fty"
      }
    },
    {
      "cell_type": "code",
      "source": [
        "# Observamos de la distribución de la variable sexo, la mayoría de alumnos en la Facultad son mujeres\n",
        "df.groupby(['sexo_is_f']).size()"
      ],
      "metadata": {
        "colab": {
          "base_uri": "https://localhost:8080/"
        },
        "id": "WOowxjaZ5OOx",
        "outputId": "ba2a7da8-7982-4ac9-fe5f-cc689d042894"
      },
      "execution_count": null,
      "outputs": [
        {
          "output_type": "execute_result",
          "data": {
            "text/plain": [
              "sexo_is_f\n",
              "0    17590\n",
              "1     5392\n",
              "dtype: int64"
            ]
          },
          "metadata": {},
          "execution_count": 74
        }
      ]
    },
    {
      "cell_type": "code",
      "source": [
        "color = {\n",
        "    \"boxes\": \"green\",\n",
        "    \"whiskers\": \"red\",\n",
        "    \"medians\": \"red\",\n",
        "    \"caps\": \"gray\",\n",
        "}\n",
        "df_sin_ausentes.boxplot(by=['sexo'], vert=False, column=['nota'], color = color, figsize=(12,5))\n",
        "plt.title(\"Boxplot con distribución de notas por género sexual\")\n",
        "plt.yticks([1,2], ['Femenino', 'Masculino'])\n",
        "plt.xlabel('Nota')\n",
        "plt.ylabel('Genero sexual')\n",
        "\n",
        "plt.suptitle('')\n",
        "plt.show()"
      ],
      "metadata": {
        "colab": {
          "base_uri": "https://localhost:8080/",
          "height": 353
        },
        "id": "b0vJLZwmvBP_",
        "outputId": "e0b64f69-e70f-48e0-8c1f-7999598cc9aa"
      },
      "execution_count": null,
      "outputs": [
        {
          "output_type": "display_data",
          "data": {
            "text/plain": [
              "<Figure size 864x360 with 1 Axes>"
            ],
            "image/png": "[encoded data removed]"
          },
          "metadata": {}
        }
      ]
    },
    {
      "cell_type": "code",
      "source": [
        "df_sin_ausentes.groupby(['sexo'])['nota'].mean()"
      ],
      "metadata": {
        "colab": {
          "base_uri": "https://localhost:8080/"
        },
        "id": "G6dXHrkQhl9a",
        "outputId": "ef357e35-86d9-4603-8643-36b6f74c3143"
      },
      "execution_count": null,
      "outputs": [
        {
          "output_type": "execute_result",
          "data": {
            "text/plain": [
              "sexo\n",
              "F    5.641768\n",
              "M    5.659875\n",
              "Name: nota, dtype: float64"
            ]
          },
          "metadata": {},
          "execution_count": 76
        }
      ]
    },
    {
      "cell_type": "code",
      "source": [
        "# obtengo sexo de alumnos aprobados\n",
        "df_aprobados = df[df['resultado'] == 'A']\n",
        "# obtengo sexo de alumnos desap\n",
        "df_desaprobados = df[df['resultado'] == 'R']\n",
        "\n",
        "# obtengo sexo de alumnos ausentes\n",
        "df_ausentes = df[df['resultado'] == 'U']\n",
        "\n",
        "plt.figure(figsize=(8, 6))\n",
        "plt.style.use('seaborn-deep')\n",
        "bins = 2\n",
        "plt.hist([df_aprobados['sexo'], df_desaprobados['sexo'], df_ausentes['sexo']], bins, label=['Aprobados', 'Desaprobados', 'Ausentes'])\n",
        "plt.legend(loc='upper right')\n",
        "plt.xticks([0,1],['Masculino', 'Femenino'])\n",
        "plt.xlabel('Género sexual')\n",
        "plt.ylabel('Cantidad de examenes')\n",
        "\n",
        "plt.show()"
      ],
      "metadata": {
        "colab": {
          "base_uri": "https://localhost:8080/",
          "height": 394
        },
        "id": "8TF3CEUv_Skq",
        "outputId": "795ef60a-fe0e-484d-c577-7890ea7c88f2"
      },
      "execution_count": null,
      "outputs": [
        {
          "output_type": "display_data",
          "data": {
            "text/plain": [
              "<Figure size 576x432 with 1 Axes>"
            ],
            "image/png": "[encoded data removed]"
          },
          "metadata": {}
        }
      ]
    },
    {
      "cell_type": "markdown",
      "source": [
        "##Variable de interes: año de nacimiento y edad"
      ],
      "metadata": {
        "id": "IvRnXtpBFE4Q"
      }
    },
    {
      "cell_type": "code",
      "source": [
        "from dateutil.relativedelta import relativedelta\n",
        "\n",
        "# funcion que obtiene edad de fecha nacimiento\n",
        "def get_age(end):\n",
        "    r = relativedelta(pd.to_datetime('now'), end) \n",
        "    return r.years\n",
        "\n",
        "df['fecha_nacimiento'] = pd.to_datetime(df['fecha_nacimiento'])\n",
        "df['anio_nacimiento'] = df['fecha_nacimiento'].dt.year\n",
        "df['edad'] = df['fecha_nacimiento'].apply(get_age)\n"
      ],
      "metadata": {
        "id": "ChEXWRYZFDsg"
      },
      "execution_count": null,
      "outputs": []
    },
    {
      "cell_type": "code",
      "source": [
        "df['edad'].describe() "
      ],
      "metadata": {
        "colab": {
          "base_uri": "https://localhost:8080/"
        },
        "id": "yeKs1yRnU4FK",
        "outputId": "af2cea98-4402-4abe-bbcc-79eebfac3f08"
      },
      "execution_count": null,
      "outputs": [
        {
          "output_type": "execute_result",
          "data": {
            "text/plain": [
              "count    22982.000000\n",
              "mean        29.454007\n",
              "std          6.879561\n",
              "min         19.000000\n",
              "25%         25.000000\n",
              "50%         28.000000\n",
              "75%         32.000000\n",
              "max         73.000000\n",
              "Name: edad, dtype: float64"
            ]
          },
          "metadata": {},
          "execution_count": 79
        }
      ]
    },
    {
      "cell_type": "code",
      "source": [
        "color = {\n",
        "    \"boxes\": \"blue\",\n",
        "    \"whiskers\": \"red\",\n",
        "    \"medians\": \"red\",\n",
        "    \"caps\": \"gray\",\n",
        "}\n",
        "df.boxplot(by=['resultado'], column=['edad'],vert=False, color = color, figsize=(12,7))\n",
        "plt.suptitle('')\n",
        "plt.title(\"Boxplot de edad y resultado conceptual\")\n",
        "plt.yticks([1,2,3], ['Aprobado', 'Reprobado', 'Ausente'])\n",
        "plt.xlabel('Edad')\n",
        "plt.ylabel('Resultado de examenes')\n",
        "\n",
        "plt.show()"
      ],
      "metadata": {
        "colab": {
          "base_uri": "https://localhost:8080/",
          "height": 461
        },
        "id": "-RVLWYvOOxPs",
        "outputId": "2f8f07d3-f887-41c8-a01b-b1f05e22b9e6"
      },
      "execution_count": null,
      "outputs": [
        {
          "output_type": "display_data",
          "data": {
            "text/plain": [
              "<Figure size 864x504 with 1 Axes>"
            ],
            "image/png": "[encoded data removed]"
          },
          "metadata": {}
        }
      ]
    },
    {
      "cell_type": "code",
      "source": [
        "df.groupby(['edad'])['resultado'].count()"
      ],
      "metadata": {
        "colab": {
          "base_uri": "https://localhost:8080/"
        },
        "id": "MPVQgLjHdjAb",
        "outputId": "6ee37b26-0aba-4a4a-f318-8001dd3beea5"
      },
      "execution_count": null,
      "outputs": [
        {
          "output_type": "execute_result",
          "data": {
            "text/plain": [
              "edad\n",
              "19       5\n",
              "20      72\n",
              "21     474\n",
              "22     985\n",
              "23    1669\n",
              "24    1949\n",
              "25    2284\n",
              "26    2211\n",
              "27    1597\n",
              "28    1379\n",
              "29    1557\n",
              "30    1438\n",
              "31    1395\n",
              "32    1018\n",
              "33     609\n",
              "34     646\n",
              "35     361\n",
              "36     499\n",
              "37     294\n",
              "38     226\n",
              "39     268\n",
              "40     179\n",
              "41     119\n",
              "42     170\n",
              "43     236\n",
              "44     143\n",
              "45     181\n",
              "46     174\n",
              "47     154\n",
              "48      68\n",
              "49     159\n",
              "50      66\n",
              "51      22\n",
              "52      69\n",
              "53      34\n",
              "54      90\n",
              "55      24\n",
              "56      26\n",
              "57      27\n",
              "58      23\n",
              "59      42\n",
              "60      13\n",
              "61      10\n",
              "62       2\n",
              "63       2\n",
              "64      12\n",
              "73       1\n",
              "Name: resultado, dtype: int64"
            ]
          },
          "metadata": {},
          "execution_count": 27
        }
      ]
    },
    {
      "cell_type": "code",
      "source": [
        "#df_sin_ausentes.groupby(['edad'])['nota'].mean().to_frame().T\n",
        "bins=[0,20,30,40,50,60]\n",
        "labels = ['0-20', '21-30', '31-40', '41-50', '51-60']\n",
        "binned_values = np.histogram(df_sin_ausentes['edad'], bins=bins)[0].tolist() # use [0] to just get the counts\n",
        "df_hist = pd.DataFrame.from_dict(dict(zip(labels, binned_values)), orient='index').reset_index()\n",
        "df_hist.columns = ['rango_edad', 'cantidad_examenes']\n",
        "df_hist"
      ],
      "metadata": {
        "colab": {
          "base_uri": "https://localhost:8080/",
          "height": 206
        },
        "id": "8IFdjed5sXUY",
        "outputId": "1132f628-0806-41fe-fa95-86fc989d308f"
      },
      "execution_count": null,
      "outputs": [
        {
          "output_type": "execute_result",
          "data": {
            "text/html": [
              "\n",
              "  <div id=\"df-ceca053c-4796-4bd2-86c3-1714f14dfb29\">\n",
              "    <div class=\"colab-df-container\">\n",
              "      <div>\n",
              "<style scoped>\n",
              "    .dataframe tbody tr th:only-of-type {\n",
              "        vertical-align: middle;\n",
              "    }\n",
              "\n",
              "    .dataframe tbody tr th {\n",
              "        vertical-align: top;\n",
              "    }\n",
              "\n",
              "    .dataframe thead th {\n",
              "        text-align: right;\n",
              "    }\n",
              "</style>\n",
              "<table border=\"1\" class=\"dataframe\">\n",
              "  <thead>\n",
              "    <tr style=\"text-align: right;\">\n",
              "      <th></th>\n",
              "      <th>rango_edad</th>\n",
              "      <th>cantidad_examenes</th>\n",
              "    </tr>\n",
              "  </thead>\n",
              "  <tbody>\n",
              "    <tr>\n",
              "      <th>0</th>\n",
              "      <td>0-20</td>\n",
              "      <td>4</td>\n",
              "    </tr>\n",
              "    <tr>\n",
              "      <th>1</th>\n",
              "      <td>21-30</td>\n",
              "      <td>9700</td>\n",
              "    </tr>\n",
              "    <tr>\n",
              "      <th>2</th>\n",
              "      <td>31-40</td>\n",
              "      <td>4561</td>\n",
              "    </tr>\n",
              "    <tr>\n",
              "      <th>3</th>\n",
              "      <td>41-50</td>\n",
              "      <td>1227</td>\n",
              "    </tr>\n",
              "    <tr>\n",
              "      <th>4</th>\n",
              "      <td>51-60</td>\n",
              "      <td>374</td>\n",
              "    </tr>\n",
              "  </tbody>\n",
              "</table>\n",
              "</div>\n",
              "      <button class=\"colab-df-convert\" onclick=\"convertToInteractive('df-ceca053c-4796-4bd2-86c3-1714f14dfb29')\"\n",
              "              title=\"Convert this dataframe to an interactive table.\"\n",
              "              style=\"display:none;\">\n",
              "        \n",
              "  <svg xmlns=\"http://www.w3.org/2000/svg\" height=\"24px\"viewBox=\"0 0 24 24\"\n",
              "       width=\"24px\">\n",
              "    <path d=\"M0 0h24v24H0V0z\" fill=\"none\"/>\n",
              "    <path d=\"M18.56 5.44l.94 2.06.94-2.06 2.06-.94-2.06-.94-.94-2.06-.94 2.06-2.06.94zm-11 1L8.5 8.5l.94-2.06 2.06-.94-2.06-.94L8.5 2.5l-.94 2.06-2.06.94zm10 10l.94 2.06.94-2.06 2.06-.94-2.06-.94-.94-2.06-.94 2.06-2.06.94z\"/><path d=\"M17.41 7.96l-1.37-1.37c-.4-.4-.92-.59-1.43-.59-.52 0-1.04.2-1.43.59L10.3 9.45l-7.72 7.72c-.78.78-.78 2.05 0 2.83L4 21.41c.39.39.9.59 1.41.59.51 0 1.02-.2 1.41-.59l7.78-7.78 2.81-2.81c.8-.78.8-2.07 0-2.86zM5.41 20L4 18.59l7.72-7.72 1.47 1.35L5.41 20z\"/>\n",
              "  </svg>\n",
              "      </button>\n",
              "      \n",
              "  <style>\n",
              "    .colab-df-container {\n",
              "      display:flex;\n",
              "      flex-wrap:wrap;\n",
              "      gap: 12px;\n",
              "    }\n",
              "\n",
              "    .colab-df-convert {\n",
              "      background-color: #E8F0FE;\n",
              "      border: none;\n",
              "      border-radius: 50%;\n",
              "      cursor: pointer;\n",
              "      display: none;\n",
              "      fill: #1967D2;\n",
              "      height: 32px;\n",
              "      padding: 0 0 0 0;\n",
              "      width: 32px;\n",
              "    }\n",
              "\n",
              "    .colab-df-convert:hover {\n",
              "      background-color: #E2EBFA;\n",
              "      box-shadow: 0px 1px 2px rgba(60, 64, 67, 0.3), 0px 1px 3px 1px rgba(60, 64, 67, 0.15);\n",
              "      fill: #174EA6;\n",
              "    }\n",
              "\n",
              "    [theme=dark] .colab-df-convert {\n",
              "      background-color: #3B4455;\n",
              "      fill: #D2E3FC;\n",
              "    }\n",
              "\n",
              "    [theme=dark] .colab-df-convert:hover {\n",
              "      background-color: #434B5C;\n",
              "      box-shadow: 0px 1px 3px 1px rgba(0, 0, 0, 0.15);\n",
              "      filter: drop-shadow(0px 1px 2px rgba(0, 0, 0, 0.3));\n",
              "      fill: #FFFFFF;\n",
              "    }\n",
              "  </style>\n",
              "\n",
              "      <script>\n",
              "        const buttonEl =\n",
              "          document.querySelector('#df-ceca053c-4796-4bd2-86c3-1714f14dfb29 button.colab-df-convert');\n",
              "        buttonEl.style.display =\n",
              "          google.colab.kernel.accessAllowed ? 'block' : 'none';\n",
              "\n",
              "        async function convertToInteractive(key) {\n",
              "          const element = document.querySelector('#df-ceca053c-4796-4bd2-86c3-1714f14dfb29');\n",
              "          const dataTable =\n",
              "            await google.colab.kernel.invokeFunction('convertToInteractive',\n",
              "                                                     [key], {});\n",
              "          if (!dataTable) return;\n",
              "\n",
              "          const docLinkHtml = 'Like what you see? Visit the ' +\n",
              "            '<a target=\"_blank\" href=https://colab.research.google.com/notebooks/data_table.ipynb>data table notebook</a>'\n",
              "            + ' to learn more about interactive tables.';\n",
              "          element.innerHTML = '';\n",
              "          dataTable['output_type'] = 'display_data';\n",
              "          await google.colab.output.renderOutput(dataTable, element);\n",
              "          const docLink = document.createElement('div');\n",
              "          docLink.innerHTML = docLinkHtml;\n",
              "          element.appendChild(docLink);\n",
              "        }\n",
              "      </script>\n",
              "    </div>\n",
              "  </div>\n",
              "  "
            ],
            "text/plain": [
              "  rango_edad  cantidad_examenes\n",
              "0       0-20                  4\n",
              "1      21-30               9700\n",
              "2      31-40               4561\n",
              "3      41-50               1227\n",
              "4      51-60                374"
            ]
          },
          "metadata": {},
          "execution_count": 48
        }
      ]
    },
    {
      "cell_type": "markdown",
      "source": [
        "##Correlación de variables\n",
        "La matriz de correlación es una importante métrica que se calcula para resumir los datos a fin de comprender la relación entre las diversas variables. En este caso lo vamos a analizar para reducir la dimensionalidad del dataframe.\n",
        "\n",
        "Cada celda de la matriz de correlación es un “coeficiente de correlación” entre las dos variables correspondientes a la fila y la columna de la celda, y este nos indica cómo es la fuerza de la relación entre dos variables."
      ],
      "metadata": {
        "id": "A5qJ904ypD-t"
      }
    },
    {
      "cell_type": "code",
      "source": [
        "# obtenemos la edad del df\n",
        "df_sin_ausentes['edad']=df['edad']\n",
        "# primero pasamos a dummie el valor de resultado para tener variables numéricas\n",
        "df_sin_ausentes['resultado_is_a'] = pd.get_dummies(df_sin_ausentes[\"resultado\"], drop_first=True)\n",
        "df_sin_ausentes.groupby(['resultado_is_a']).size()"
      ],
      "metadata": {
        "colab": {
          "base_uri": "https://localhost:8080/"
        },
        "id": "gwVlnbk5tYPa",
        "outputId": "138512fb-e3ab-4c8d-ad50-061b719b5395"
      },
      "execution_count": null,
      "outputs": [
        {
          "output_type": "execute_result",
          "data": {
            "text/plain": [
              "resultado_is_a\n",
              "0    11928\n",
              "1     3962\n",
              "dtype: int64"
            ]
          },
          "metadata": {},
          "execution_count": 28
        }
      ]
    },
    {
      "cell_type": "code",
      "source": [
        "# Obtenemos un dataset de prueba con los examenes sin ausentes, \n",
        "# solo nos quedamos con los atributos: edad, sexo,año examen y nota\n",
        "df_correlacion = df_sin_ausentes[['nota', 'anio_examen', 'sexo_is_f', 'edad', 'resultado_is_a']]"
      ],
      "metadata": {
        "id": "Fsaz0OiwpSDb"
      },
      "execution_count": null,
      "outputs": []
    },
    {
      "cell_type": "code",
      "source": [
        "corr= df_correlacion.corr()\n",
        "# Obtengo el triangulo de correlación\n",
        "matrix = np.triu(corr)\n",
        "plt.figure(figsize = (12,10))\n",
        "plt.title(\"Matriz de correlación\")\n",
        "\n",
        "sns.heatmap(corr, mask=matrix,annot=True, cmap=\"YlGnBu\")"
      ],
      "metadata": {
        "colab": {
          "base_uri": "https://localhost:8080/",
          "height": 628
        },
        "id": "FnkLOzyBpC6J",
        "outputId": "a3091ba4-1f47-4d8f-fe38-509b94f12ccb"
      },
      "execution_count": null,
      "outputs": [
        {
          "output_type": "execute_result",
          "data": {
            "text/plain": [
              "<matplotlib.axes._subplots.AxesSubplot at 0x7fed404d4110>"
            ]
          },
          "metadata": {},
          "execution_count": 30
        },
        {
          "output_type": "display_data",
          "data": {
            "image/png": "[encoded data removed]",
            "text/plain": [
              "<Figure size 864x720 with 2 Axes>"
            ]
          },
          "metadata": {
            "needs_background": "light"
          }
        }
      ]
    },
    {
      "cell_type": "markdown",
      "source": [
        "consideramos:\n",
        "\n",
        "\n",
        "*   edad - anio_examen\n",
        "*   edad - nota\n",
        "\n"
      ],
      "metadata": {
        "id": "V2sixbq9-OwT"
      }
    },
    {
      "cell_type": "code",
      "source": [
        "df_sin_ausentes.groupby(['anio_examen'])['edad'].mean()"
      ],
      "metadata": {
        "colab": {
          "base_uri": "https://localhost:8080/"
        },
        "id": "Yz9CzED--Zlt",
        "outputId": "99eccf62-9ce7-4092-b905-675a18f0d261"
      },
      "execution_count": null,
      "outputs": [
        {
          "output_type": "execute_result",
          "data": {
            "text/plain": [
              "anio_examen\n",
              "2016    31.948500\n",
              "2017    30.320885\n",
              "2018    28.949743\n",
              "2019    28.345345\n",
              "2020    28.506832\n",
              "Name: edad, dtype: float64"
            ]
          },
          "metadata": {},
          "execution_count": 31
        }
      ]
    },
    {
      "cell_type": "markdown",
      "source": [
        "#Regresion lineal\n",
        "Primer caso: anio de examen y edad\n",
        "\n",
        "Segundo caso: nota y edad\n"
      ],
      "metadata": {
        "id": "zePoAIzzQag9"
      }
    },
    {
      "cell_type": "code",
      "source": [
        "from scipy import stats\n",
        "\n",
        "x = df_sin_ausentes['edad'].to_numpy() #variable independiente\n",
        "y = df_sin_ausentes['anio_examen'].to_numpy() #variable predictora\n",
        "\n",
        "r = stats.linregress(x, y)\n",
        "print(\"Linear Regression:\\nSlope = {} \\\n",
        "  \\nIntercept = {} \\nCoef of determination (R2) = {} \\nPearson corr coefficient (R) = {} \\nP-value = {} \\nStandard error  = {}\".format(r.slope, r.intercept, r.rvalue**2,r.rvalue, r.pvalue, r.stderr))\n",
        "\n",
        "plt.figure(figsize=(12, 5))\n",
        "plt.plot(x, y, 'o', label='dato original')\n",
        "plt.plot(x, r.intercept + r.slope*x, 'r', label='linea ajustada')\n",
        "plt.title('Gráfico de la recta de regresión lineal')\n",
        "plt.xlabel('Edad del alumno')\n",
        "plt.ylabel('Año de examen')\n",
        "  \n",
        "plt.legend()\n",
        "plt.show()"
      ],
      "metadata": {
        "colab": {
          "base_uri": "https://localhost:8080/",
          "height": 476
        },
        "id": "D5ArPLKpZbs5",
        "outputId": "ee4ef693-6d1e-41d6-899d-39baca73704e"
      },
      "execution_count": null,
      "outputs": [
        {
          "output_type": "stream",
          "name": "stdout",
          "text": [
            "Linear Regression:\n",
            "Slope = -0.030957413712722707   \n",
            "Intercept = 2018.709631329615 \n",
            "Coef of determination (R2) = 0.030566955883338583 \n",
            "Pearson corr coefficient (R) = -0.1748340810120801 \n",
            "P-value = 2.854067271895435e-109 \n",
            "Standard error  = 0.0013831295818474243\n"
          ]
        },
        {
          "output_type": "display_data",
          "data": {
            "image/png": "[encoded data removed]",
            "text/plain": [
              "<Figure size 864x360 with 1 Axes>"
            ]
          },
          "metadata": {
            "needs_background": "light"
          }
        }
      ]
    },
    {
      "cell_type": "code",
      "source": [
        "from scipy import stats\n",
        "\n",
        "x = df_sin_ausentes['edad'].to_numpy() #variable independiente\n",
        "y = df_sin_ausentes['nota'].to_numpy() #variable predictora\n",
        "\n",
        "r = stats.linregress(x, y)\n",
        "print(\"Linear Regression:\\nSlope = {} \\\n",
        "  \\nIntercept = {} \\nCoef of determination (R2) = {} \\nPearson corr coefficient (R) = {} \\nP-value = {} \\nStandard error  = {}\".format(r.slope, r.intercept, r.rvalue**2,r.rvalue, r.pvalue, r.stderr))\n",
        "\n",
        "plt.figure(figsize=(12, 5))\n",
        "plt.plot(x, y, 'o', label='dato original', color=\"g\")\n",
        "plt.plot(x, r.intercept + r.slope*x, 'r', label='linea ajustada')\n",
        "plt.title('Gráfico de la recta de regresión lineal')\n",
        "plt.xlabel('Edad del alumno')\n",
        "plt.ylabel('Nota de examen')\n",
        "  \n",
        "plt.legend()\n",
        "plt.show()"
      ],
      "metadata": {
        "colab": {
          "base_uri": "https://localhost:8080/",
          "height": 476
        },
        "id": "wA4hFZ7rpUUR",
        "outputId": "3dcfdf54-6b3a-4293-b27e-16c544d84879"
      },
      "execution_count": null,
      "outputs": [
        {
          "output_type": "stream",
          "name": "stdout",
          "text": [
            "Linear Regression:\n",
            "Slope = 0.02963005935305271   \n",
            "Intercept = 4.766103825608578 \n",
            "Coef of determination (R2) = 0.007377678626775618 \n",
            "Pearson corr coefficient (R) = 0.08589341433879327 \n",
            "P-value = 2.071222424724184e-27 \n",
            "Standard error  = 0.0027266541649820703\n"
          ]
        },
        {
          "output_type": "display_data",
          "data": {
            "image/png": "[encoded data removed]",
            "text/plain": [
              "<Figure size 864x360 with 1 Axes>"
            ]
          },
          "metadata": {
            "needs_background": "light"
          }
        }
      ]
    }
  ]
}